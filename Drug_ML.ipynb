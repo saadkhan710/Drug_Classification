{
 "cells": [
  {
   "cell_type": "markdown",
   "id": "d2a00936",
   "metadata": {},
   "source": [
    "# Task 1: Data Understanding\n",
    "\n",
    "### 1.1 Project Rationale\n",
    "\n",
    "This project focuses on building an end-to-end machine learning pipeline to classify the type of drug a patient should be prescribed, based on their medical attributes. The dataset contains anonymized patient information and the corresponding drug type that was prescribed.\n",
    "\n",
    "The goal is to preprocess the data, explore it visually and statistically, build a classification model, and evaluate its performance using appropriate metrics.\n",
    "\n"
   ]
  },
  {
   "cell_type": "markdown",
   "id": "93839da4",
   "metadata": {},
   "source": [
    "### Features\n",
    "\n",
    "* Age: Age of the patient (in years)\t\n",
    "* Sex:\tGender of the patient (F or M)\t\n",
    "* BP :Blood pressure levels (LOW, NORMAL, HIGH)\t\n",
    "* Cholesterol: Cholesterol level (NORMAL or HIGH)\n",
    "* Na_to_K: Sodium to Potassium ratio in blood "
   ]
  },
  {
   "cell_type": "markdown",
   "id": "df8c3013",
   "metadata": {},
   "source": [
    "### Target Variable \n",
    "\n",
    "* Drug: Type of Drug prescribed to patient"
   ]
  },
  {
   "cell_type": "markdown",
   "id": "73547365",
   "metadata": {},
   "source": [
    "### Prediction Task\n",
    "\n",
    "This is a multiclass classification problem, where the objective is to accurately predict the type of drug (Drug) a patient should be prescribed, based on the input features such as age, sex, blood pressure, cholesterol level, and sodium-to-potassium ratio in blood."
   ]
  },
  {
   "cell_type": "markdown",
   "id": "f6ff2b9b",
   "metadata": {},
   "source": [
    "### 1.2 Load Dataset"
   ]
  },
  {
   "cell_type": "code",
   "execution_count": 1,
   "id": "60e642ae",
   "metadata": {},
   "outputs": [],
   "source": [
    "import numpy as np\n",
    "import pandas as pd\n",
    "import matplotlib.pyplot as plt\n",
    "import seaborn as sns\n",
    "import os"
   ]
  },
  {
   "cell_type": "code",
   "execution_count": null,
   "id": "6eef3c09",
   "metadata": {},
   "outputs": [
    {
     "data": {
      "text/html": [
       "<div>\n",
       "<style scoped>\n",
       "    .dataframe tbody tr th:only-of-type {\n",
       "        vertical-align: middle;\n",
       "    }\n",
       "\n",
       "    .dataframe tbody tr th {\n",
       "        vertical-align: top;\n",
       "    }\n",
       "\n",
       "    .dataframe thead th {\n",
       "        text-align: right;\n",
       "    }\n",
       "</style>\n",
       "<table border=\"1\" class=\"dataframe\">\n",
       "  <thead>\n",
       "    <tr style=\"text-align: right;\">\n",
       "      <th></th>\n",
       "      <th>Age</th>\n",
       "      <th>Sex</th>\n",
       "      <th>BP</th>\n",
       "      <th>Cholesterol</th>\n",
       "      <th>Na_to_K</th>\n",
       "      <th>Drug</th>\n",
       "    </tr>\n",
       "  </thead>\n",
       "  <tbody>\n",
       "    <tr>\n",
       "      <th>0</th>\n",
       "      <td>23</td>\n",
       "      <td>F</td>\n",
       "      <td>HIGH</td>\n",
       "      <td>HIGH</td>\n",
       "      <td>25.355</td>\n",
       "      <td>drugY</td>\n",
       "    </tr>\n",
       "    <tr>\n",
       "      <th>1</th>\n",
       "      <td>47</td>\n",
       "      <td>M</td>\n",
       "      <td>LOW</td>\n",
       "      <td>HIGH</td>\n",
       "      <td>13.093</td>\n",
       "      <td>drugC</td>\n",
       "    </tr>\n",
       "    <tr>\n",
       "      <th>2</th>\n",
       "      <td>47</td>\n",
       "      <td>M</td>\n",
       "      <td>LOW</td>\n",
       "      <td>HIGH</td>\n",
       "      <td>10.114</td>\n",
       "      <td>drugC</td>\n",
       "    </tr>\n",
       "    <tr>\n",
       "      <th>3</th>\n",
       "      <td>28</td>\n",
       "      <td>F</td>\n",
       "      <td>NORMAL</td>\n",
       "      <td>HIGH</td>\n",
       "      <td>7.798</td>\n",
       "      <td>drugX</td>\n",
       "    </tr>\n",
       "    <tr>\n",
       "      <th>4</th>\n",
       "      <td>61</td>\n",
       "      <td>F</td>\n",
       "      <td>LOW</td>\n",
       "      <td>HIGH</td>\n",
       "      <td>18.043</td>\n",
       "      <td>drugY</td>\n",
       "    </tr>\n",
       "    <tr>\n",
       "      <th>5</th>\n",
       "      <td>22</td>\n",
       "      <td>F</td>\n",
       "      <td>NORMAL</td>\n",
       "      <td>HIGH</td>\n",
       "      <td>8.607</td>\n",
       "      <td>drugX</td>\n",
       "    </tr>\n",
       "    <tr>\n",
       "      <th>6</th>\n",
       "      <td>49</td>\n",
       "      <td>F</td>\n",
       "      <td>NORMAL</td>\n",
       "      <td>HIGH</td>\n",
       "      <td>16.275</td>\n",
       "      <td>drugY</td>\n",
       "    </tr>\n",
       "    <tr>\n",
       "      <th>7</th>\n",
       "      <td>41</td>\n",
       "      <td>M</td>\n",
       "      <td>LOW</td>\n",
       "      <td>HIGH</td>\n",
       "      <td>11.037</td>\n",
       "      <td>drugC</td>\n",
       "    </tr>\n",
       "    <tr>\n",
       "      <th>8</th>\n",
       "      <td>60</td>\n",
       "      <td>M</td>\n",
       "      <td>NORMAL</td>\n",
       "      <td>HIGH</td>\n",
       "      <td>15.171</td>\n",
       "      <td>drugY</td>\n",
       "    </tr>\n",
       "    <tr>\n",
       "      <th>9</th>\n",
       "      <td>43</td>\n",
       "      <td>M</td>\n",
       "      <td>LOW</td>\n",
       "      <td>NORMAL</td>\n",
       "      <td>19.368</td>\n",
       "      <td>drugY</td>\n",
       "    </tr>\n",
       "  </tbody>\n",
       "</table>\n",
       "</div>"
      ],
      "text/plain": [
       "   Age Sex      BP Cholesterol  Na_to_K   Drug\n",
       "0   23   F    HIGH        HIGH   25.355  drugY\n",
       "1   47   M     LOW        HIGH   13.093  drugC\n",
       "2   47   M     LOW        HIGH   10.114  drugC\n",
       "3   28   F  NORMAL        HIGH    7.798  drugX\n",
       "4   61   F     LOW        HIGH   18.043  drugY\n",
       "5   22   F  NORMAL        HIGH    8.607  drugX\n",
       "6   49   F  NORMAL        HIGH   16.275  drugY\n",
       "7   41   M     LOW        HIGH   11.037  drugC\n",
       "8   60   M  NORMAL        HIGH   15.171  drugY\n",
       "9   43   M     LOW      NORMAL   19.368  drugY"
      ]
     },
     "execution_count": 4,
     "metadata": {},
     "output_type": "execute_result"
    }
   ],
   "source": [
    "df = pd.read_csv(\"drug200.csv\")            # Loading datset \n",
    "df.head(10)                                # Verify if dataset is loaded properly"
   ]
  },
  {
   "cell_type": "markdown",
   "id": "5819923b",
   "metadata": {},
   "source": [
    "### 1.3 Explore the Data (EDA)"
   ]
  },
  {
   "cell_type": "markdown",
   "id": "3078b993",
   "metadata": {},
   "source": [
    "#### 1.3.1 Data Overview"
   ]
  },
  {
   "cell_type": "code",
   "execution_count": 9,
   "id": "31c2e227",
   "metadata": {},
   "outputs": [
    {
     "name": "stdout",
     "output_type": "stream",
     "text": [
      "Number of rows (observations): 200\n",
      "Number of columns (features): 6\n"
     ]
    }
   ],
   "source": [
    "# Check the number of observations and features\n",
    "print(f\"Number of rows (observations): {df.shape[0]}\")   # As the return type of shape is tuple, calling rows and columns their index\n",
    "print(f\"Number of columns (features): {df.shape[1]}\")"
   ]
  },
  {
   "cell_type": "code",
   "execution_count": 11,
   "id": "5c888c0f",
   "metadata": {},
   "outputs": [
    {
     "name": "stdout",
     "output_type": "stream",
     "text": [
      "\n",
      "Target variable for this supervised learning task: '0      drugY\n",
      "1      drugC\n",
      "2      drugC\n",
      "3      drugX\n",
      "4      drugY\n",
      "       ...  \n",
      "195    drugC\n",
      "196    drugC\n",
      "197    drugX\n",
      "198    drugX\n",
      "199    drugX\n",
      "Name: Drug, Length: 200, dtype: object'\n"
     ]
    }
   ],
   "source": [
    "# 2. Identify the target variable\n",
    "\n",
    "print(f\"\\nTarget variable for this supervised learning task: '{df['Drug']}'\")"
   ]
  },
  {
   "cell_type": "code",
   "execution_count": 13,
   "id": "4a265ba5",
   "metadata": {},
   "outputs": [
    {
     "name": "stdout",
     "output_type": "stream",
     "text": [
      "Index(['Sex', 'BP', 'Cholesterol', 'Drug'], dtype='object')\n"
     ]
    }
   ],
   "source": [
    "# Identify categorical columns (potential label columns)\n",
    "categorical_columns = df.select_dtypes(include=['object', 'category']).columns\n",
    "\n",
    "print(categorical_columns)"
   ]
  },
  {
   "cell_type": "markdown",
   "id": "5d9c6899",
   "metadata": {},
   "source": [
    "Checking Distribution for Categorical Label : Sex"
   ]
  },
  {
   "cell_type": "code",
   "execution_count": 14,
   "id": "4254d9af",
   "metadata": {},
   "outputs": [
    {
     "name": "stdout",
     "output_type": "stream",
     "text": [
      "Column: 'Sex'\n",
      "Sex\n",
      "M    104\n",
      "F     96\n",
      "Name: count, dtype: int64\n",
      "Number of unique classes in 'Sex': 2\n"
     ]
    },
    {
     "name": "stderr",
     "output_type": "stream",
     "text": [
      "C:\\Users\\SAAD KHAN\\AppData\\Local\\Temp\\ipykernel_4848\\1375213469.py:6: FutureWarning: \n",
      "\n",
      "Passing `palette` without assigning `hue` is deprecated and will be removed in v0.14.0. Assign the `x` variable to `hue` and set `legend=False` for the same effect.\n",
      "\n",
      "  sns.countplot(x='Sex', data=df, palette='Set2')\n"
     ]
    },
    {
     "data": {
      "image/png": "[encoded data removed]",
      "text/plain": [
       "<Figure size 640x480 with 1 Axes>"
      ]
     },
     "metadata": {},
     "output_type": "display_data"
    }
   ],
   "source": [
    "print(\"Column: 'Sex'\")\n",
    "print(df['Sex'].value_counts())\n",
    "print(f\"Number of unique classes in 'Sex': {df['Sex'].nunique()}\")\n",
    "\n",
    "# Plot\n",
    "sns.countplot(x='Sex', data=df, palette='Set2')\n",
    "plt.title('Distribution in Sex')\n",
    "plt.xlabel('Sex')\n",
    "plt.ylabel('Count')\n",
    "plt.grid(axis='y', linestyle='--', alpha=0.6)\n",
    "plt.show()\n"
   ]
  },
  {
   "cell_type": "markdown",
   "id": "1a43f9c5",
   "metadata": {},
   "source": [
    "Checking Distribution for Categorical Label : Blood Pressure"
   ]
  },
  {
   "cell_type": "code",
   "execution_count": 15,
   "id": "00e6678b",
   "metadata": {},
   "outputs": [
    {
     "name": "stdout",
     "output_type": "stream",
     "text": [
      "Column: 'BP'\n",
      "BP\n",
      "HIGH      77\n",
      "LOW       64\n",
      "NORMAL    59\n",
      "Name: count, dtype: int64\n",
      "Number of unique classes in 'BP': 3\n"
     ]
    },
    {
     "name": "stderr",
     "output_type": "stream",
     "text": [
      "C:\\Users\\SAAD KHAN\\AppData\\Local\\Temp\\ipykernel_4848\\2948710817.py:6: FutureWarning: \n",
      "\n",
      "Passing `palette` without assigning `hue` is deprecated and will be removed in v0.14.0. Assign the `x` variable to `hue` and set `legend=False` for the same effect.\n",
      "\n",
      "  sns.countplot(x='BP', data=df, palette='Set2')\n"
     ]
    },
    {
     "data": {
      "image/png": "[encoded data removed]",
      "text/plain": [
       "<Figure size 640x480 with 1 Axes>"
      ]
     },
     "metadata": {},
     "output_type": "display_data"
    }
   ],
   "source": [
    "print(\"Column: 'BP'\")\n",
    "print(df['BP'].value_counts())\n",
    "print(f\"Number of unique classes in 'BP': {df['BP'].nunique()}\")\n",
    "\n",
    "# Plot\n",
    "sns.countplot(x='BP', data=df, palette='Set2')\n",
    "plt.title('Distribution in BP')\n",
    "plt.xlabel('Blood Pressure')\n",
    "plt.ylabel('Count')\n",
    "plt.grid(axis='y', linestyle='--', alpha=0.6)\n",
    "plt.show()\n"
   ]
  },
  {
   "cell_type": "markdown",
   "id": "de99b901",
   "metadata": {},
   "source": [
    "Checking distribution for Categorical Label : Cholestrol"
   ]
  },
  {
   "cell_type": "code",
   "execution_count": 16,
   "id": "dcc73a68",
   "metadata": {},
   "outputs": [
    {
     "name": "stdout",
     "output_type": "stream",
     "text": [
      "Column: 'Cholesterol'\n",
      "Cholesterol\n",
      "HIGH      103\n",
      "NORMAL     97\n",
      "Name: count, dtype: int64\n",
      "Number of unique classes in 'Cholesterol': 2\n"
     ]
    },
    {
     "name": "stderr",
     "output_type": "stream",
     "text": [
      "C:\\Users\\SAAD KHAN\\AppData\\Local\\Temp\\ipykernel_4848\\1280258182.py:6: FutureWarning: \n",
      "\n",
      "Passing `palette` without assigning `hue` is deprecated and will be removed in v0.14.0. Assign the `x` variable to `hue` and set `legend=False` for the same effect.\n",
      "\n",
      "  sns.countplot(x='Cholesterol', data=df, palette='Set2')\n"
     ]
    },
    {
     "data": {
      "image/png": "[encoded data removed]",
      "text/plain": [
       "<Figure size 640x480 with 1 Axes>"
      ]
     },
     "metadata": {},
     "output_type": "display_data"
    }
   ],
   "source": [
    "print(\"Column: 'Cholesterol'\")\n",
    "print(df['Cholesterol'].value_counts())\n",
    "print(f\"Number of unique classes in 'Cholesterol': {df['Cholesterol'].nunique()}\")\n",
    "\n",
    "# Plot\n",
    "sns.countplot(x='Cholesterol', data=df, palette='Set2')\n",
    "plt.title('Distribution in Cholesterol')\n",
    "plt.xlabel('Cholesterol')\n",
    "plt.ylabel('Count')\n",
    "plt.grid(axis='y', linestyle='--', alpha=0.6)\n",
    "plt.show()\n"
   ]
  },
  {
   "cell_type": "markdown",
   "id": "62d32deb",
   "metadata": {},
   "source": [
    "Checking Distribution for Categorical Label : Drug"
   ]
  },
  {
   "cell_type": "code",
   "execution_count": 17,
   "id": "1027e084",
   "metadata": {},
   "outputs": [
    {
     "name": "stdout",
     "output_type": "stream",
     "text": [
      "Column: 'Drug' (Target)\n",
      "Drug\n",
      "drugY    91\n",
      "drugX    54\n",
      "drugA    23\n",
      "drugC    16\n",
      "drugB    16\n",
      "Name: count, dtype: int64\n",
      "Number of unique classes in 'Drug': 5\n"
     ]
    },
    {
     "name": "stderr",
     "output_type": "stream",
     "text": [
      "C:\\Users\\SAAD KHAN\\AppData\\Local\\Temp\\ipykernel_4848\\2408213865.py:6: FutureWarning: \n",
      "\n",
      "Passing `palette` without assigning `hue` is deprecated and will be removed in v0.14.0. Assign the `x` variable to `hue` and set `legend=False` for the same effect.\n",
      "\n",
      "  sns.countplot(x='Drug', data=df, palette='Set2')\n"
     ]
    },
    {
     "data": {
      "image/png": "[encoded data removed]",
      "text/plain": [
       "<Figure size 640x480 with 1 Axes>"
      ]
     },
     "metadata": {},
     "output_type": "display_data"
    }
   ],
   "source": [
    "print(\"Column: 'Drug' (Target)\")\n",
    "print(df['Drug'].value_counts())\n",
    "print(f\"Number of unique classes in 'Drug': {df['Drug'].nunique()}\")\n",
    "\n",
    "# Plot\n",
    "sns.countplot(x='Drug', data=df, palette='Set2')\n",
    "plt.title('Distribution of Drug Classes')\n",
    "plt.xlabel('Drug')\n",
    "plt.ylabel('Count')\n",
    "plt.grid(axis='y', linestyle='--', alpha=0.6)\n",
    "plt.show()\n"
   ]
  },
  {
   "cell_type": "markdown",
   "id": "181bb4ea",
   "metadata": {},
   "source": [
    "#### 1.3.2 Feature Analysis"
   ]
  },
  {
   "cell_type": "markdown",
   "id": "bd1a2397",
   "metadata": {},
   "source": [
    "Descriptive statistics for numerical columns "
   ]
  },
  {
   "cell_type": "code",
   "execution_count": 19,
   "id": "4be48488",
   "metadata": {},
   "outputs": [
    {
     "data": {
      "text/html": [
       "<div>\n",
       "<style scoped>\n",
       "    .dataframe tbody tr th:only-of-type {\n",
       "        vertical-align: middle;\n",
       "    }\n",
       "\n",
       "    .dataframe tbody tr th {\n",
       "        vertical-align: top;\n",
       "    }\n",
       "\n",
       "    .dataframe thead th {\n",
       "        text-align: right;\n",
       "    }\n",
       "</style>\n",
       "<table border=\"1\" class=\"dataframe\">\n",
       "  <thead>\n",
       "    <tr style=\"text-align: right;\">\n",
       "      <th></th>\n",
       "      <th>Age</th>\n",
       "      <th>Na_to_K</th>\n",
       "    </tr>\n",
       "  </thead>\n",
       "  <tbody>\n",
       "    <tr>\n",
       "      <th>count</th>\n",
       "      <td>200.000000</td>\n",
       "      <td>200.000000</td>\n",
       "    </tr>\n",
       "    <tr>\n",
       "      <th>mean</th>\n",
       "      <td>44.315000</td>\n",
       "      <td>16.084485</td>\n",
       "    </tr>\n",
       "    <tr>\n",
       "      <th>std</th>\n",
       "      <td>16.544315</td>\n",
       "      <td>7.223956</td>\n",
       "    </tr>\n",
       "    <tr>\n",
       "      <th>min</th>\n",
       "      <td>15.000000</td>\n",
       "      <td>6.269000</td>\n",
       "    </tr>\n",
       "    <tr>\n",
       "      <th>25%</th>\n",
       "      <td>31.000000</td>\n",
       "      <td>10.445500</td>\n",
       "    </tr>\n",
       "    <tr>\n",
       "      <th>50%</th>\n",
       "      <td>45.000000</td>\n",
       "      <td>13.936500</td>\n",
       "    </tr>\n",
       "    <tr>\n",
       "      <th>75%</th>\n",
       "      <td>58.000000</td>\n",
       "      <td>19.380000</td>\n",
       "    </tr>\n",
       "    <tr>\n",
       "      <th>max</th>\n",
       "      <td>74.000000</td>\n",
       "      <td>38.247000</td>\n",
       "    </tr>\n",
       "  </tbody>\n",
       "</table>\n",
       "</div>"
      ],
      "text/plain": [
       "              Age     Na_to_K\n",
       "count  200.000000  200.000000\n",
       "mean    44.315000   16.084485\n",
       "std     16.544315    7.223956\n",
       "min     15.000000    6.269000\n",
       "25%     31.000000   10.445500\n",
       "50%     45.000000   13.936500\n",
       "75%     58.000000   19.380000\n",
       "max     74.000000   38.247000"
      ]
     },
     "execution_count": 19,
     "metadata": {},
     "output_type": "execute_result"
    }
   ],
   "source": [
    "df.describe()"
   ]
  },
  {
   "cell_type": "markdown",
   "id": "a11696d1",
   "metadata": {},
   "source": [
    "Checking Distribution : Plotting Histogram for Age "
   ]
  },
  {
   "cell_type": "code",
   "execution_count": 21,
   "id": "3578a132",
   "metadata": {},
   "outputs": [
    {
     "data": {
      "image/png": "[encoded data removed]",
      "text/plain": [
       "<Figure size 600x400 with 1 Axes>"
      ]
     },
     "metadata": {},
     "output_type": "display_data"
    }
   ],
   "source": [
    "plt.figure(figsize=(6, 4))\n",
    "sns.boxplot(y='Age', data=df, color='skyblue')\n",
    "plt.title('Box Plot of Age')\n",
    "plt.ylabel('Age')\n",
    "plt.grid(axis='y', linestyle='--', alpha=0.6)\n",
    "plt.tight_layout()\n",
    "plt.show()\n"
   ]
  },
  {
   "cell_type": "markdown",
   "id": "27bcf7dc",
   "metadata": {},
   "source": [
    "Happy to see no outliers. "
   ]
  },
  {
   "cell_type": "markdown",
   "id": "6730bb95",
   "metadata": {},
   "source": [
    "Checking Distribution : Plotting Histogram for Na to K ratio"
   ]
  },
  {
   "cell_type": "code",
   "execution_count": 22,
   "id": "47b59481",
   "metadata": {},
   "outputs": [
    {
     "data": {
      "image/png": "[encoded data removed]",
      "text/plain": [
       "<Figure size 600x400 with 1 Axes>"
      ]
     },
     "metadata": {},
     "output_type": "display_data"
    }
   ],
   "source": [
    "plt.figure(figsize=(6, 4))\n",
    "sns.boxplot(y='Na_to_K', data=df, color='lightgreen')\n",
    "plt.title('Box Plot of Na_to_K Ratio')\n",
    "plt.ylabel('Na_to_K')\n",
    "plt.grid(axis='y', linestyle='--', alpha=0.6)\n",
    "plt.tight_layout()\n",
    "plt.show()\n"
   ]
  },
  {
   "cell_type": "code",
   "execution_count": 23,
   "id": "f6b7e4ab",
   "metadata": {},
   "outputs": [
    {
     "name": "stdout",
     "output_type": "stream",
     "text": [
      "Number of outliers in 'Na_to_K': 8\n",
      "\n",
      "Outlier rows:\n",
      "     Age Sex    BP Cholesterol  Na_to_K   Drug\n",
      "24    33   F   LOW        HIGH   33.486  drugY\n",
      "96    58   F   LOW        HIGH   38.247  drugY\n",
      "98    20   M  HIGH      NORMAL   35.639  drugY\n",
      "128   47   M   LOW      NORMAL   33.542  drugY\n",
      "131   52   M   LOW      NORMAL   32.922  drugY\n",
      "184   18   F  HIGH        HIGH   37.188  drugY\n",
      "188   65   M  HIGH      NORMAL   34.997  drugY\n",
      "194   46   F  HIGH        HIGH   34.686  drugY\n"
     ]
    }
   ],
   "source": [
    "# Calculate Q1 (25th percentile) and Q3 (75th percentile)\n",
    "Q1 = df['Na_to_K'].quantile(0.25)\n",
    "Q3 = df['Na_to_K'].quantile(0.75)\n",
    "IQR = Q3 - Q1\n",
    "\n",
    "# Define outlier bounds\n",
    "lower_bound = Q1 - 1.5 * IQR\n",
    "upper_bound = Q3 + 1.5 * IQR\n",
    "\n",
    "# Identify outliers\n",
    "outliers = df[(df['Na_to_K'] < lower_bound) | (df['Na_to_K'] > upper_bound)]\n",
    "\n",
    "# Display count and the actual outlier rows\n",
    "print(f\"Number of outliers in 'Na_to_K': {outliers.shape[0]}\")\n",
    "print(\"\\nOutlier rows:\")\n",
    "print(outliers)\n"
   ]
  },
  {
   "cell_type": "code",
   "execution_count": 24,
   "id": "56df4a14",
   "metadata": {},
   "outputs": [
    {
     "name": "stdout",
     "output_type": "stream",
     "text": [
      "Drug\n",
      "drugA    0\n",
      "drugB    0\n",
      "drugC    0\n",
      "drugX    0\n",
      "drugY    8\n",
      "Name: Na_to_K_outlier, dtype: int64\n"
     ]
    }
   ],
   "source": [
    "# Create a flag column to indicate outliers\n",
    "df['Na_to_K_outlier'] = ((df['Na_to_K'] < lower_bound) | (df['Na_to_K'] > upper_bound)).astype(int)\n",
    "\n",
    "# Then explore if outliers are skewed toward any Drug class\n",
    "print(df.groupby('Drug')['Na_to_K_outlier'].sum())\n"
   ]
  },
  {
   "cell_type": "markdown",
   "id": "86e637f7",
   "metadata": {},
   "source": [
    "Reason : Why I am keeping those outliers \n",
    "\n",
    "* All 8 outliers are associated with a single class: drugY.This suggests they carry critical class-specific information.\n",
    "\n",
    "* Removing them would make it harder for your model to learn patterns that distinguish drugY from other drug types.\n",
    "\n",
    "In future I plan to implement Multiple Classification Models: \n",
    "\n",
    "* Logistic Regression\n",
    "\n",
    "* k-NN\n",
    "\n",
    "* Support Vector Machine\n",
    "\n",
    "* Random Forest\n",
    "\n",
    "* XGBoost\n",
    "\n",
    "\n",
    "Out of which distance-based models (Logistic Regression, k-NN, SVM) is sensitive to outliers, but this can be handled by scaling the data (e.g., RobustScaler).\n",
    "\n",
    "Whereas, Random Forest and XGBoost are robust to outliers.\n",
    "\n",
    "Mathematically its 8 out of 200 rows (i.e., 4%) are outliers.\n",
    "\n",
    "Anyway I will be comparing models with 5 different ML Algorithm \n",
    "\n",
    "Removing them would reduce classifier's ability to detect high Na_to_K scenarios linked with drugY.Which I don't want Hence there are more pros then cons I see in it moving ahead by keeping the outliers. "
   ]
  },
  {
   "cell_type": "markdown",
   "id": "65cf5823",
   "metadata": {},
   "source": [
    "#### 1.3.3 Exploring Relationship"
   ]
  },
  {
   "cell_type": "markdown",
   "id": "a3bd2fd6",
   "metadata": {},
   "source": []
  }
 ],
 "metadata": {
  "kernelspec": {
   "display_name": "data_analytics",
   "language": "python",
   "name": "python3"
  },
  "language_info": {
   "codemirror_mode": {
    "name": "ipython",
    "version": 3
   },
   "file_extension": ".py",
   "mimetype": "text/x-python",
   "name": "python",
   "nbconvert_exporter": "python",
   "pygments_lexer": "ipython3",
   "version": "3.12.8"
  }
 },
 "nbformat": 4,
 "nbformat_minor": 5
}
