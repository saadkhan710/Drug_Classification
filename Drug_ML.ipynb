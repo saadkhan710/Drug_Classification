{
 "cells": [
  {
   "cell_type": "markdown",
   "id": "d2a00936",
   "metadata": {},
   "source": [
    "## Task 1: Data Understanding\n",
    "\n",
    "### Project Rationale\n",
    "\n",
    "This project focuses on building an end-to-end machine learning pipeline to classify the type of drug a patient should be prescribed, based on their medical attributes. The dataset contains anonymized patient information and the corresponding drug type that was prescribed.\n",
    "\n",
    "The goal is to preprocess the data, explore it visually and statistically, build a classification model, and evaluate its performance using appropriate metrics.\n",
    "\n"
   ]
  },
  {
   "cell_type": "markdown",
   "id": "93839da4",
   "metadata": {},
   "source": [
    "### Features\n",
    "\n",
    "* Age: Age of the patient (in years)\t\n",
    "* Sex:\tGender of the patient (F or M)\t\n",
    "* BP :Blood pressure levels (LOW, NORMAL, HIGH)\t\n",
    "* Cholesterol: Cholesterol level (NORMAL or HIGH)\n",
    "* Na_to_K: Sodium to Potassium ratio in blood "
   ]
  },
  {
   "cell_type": "markdown",
   "id": "df8c3013",
   "metadata": {},
   "source": [
    "### Target Variable \n",
    "\n",
    "* Drug: Type of Drug prescribed to patient"
   ]
  },
  {
   "cell_type": "markdown",
   "id": "73547365",
   "metadata": {},
   "source": [
    "### Prediction Task\n",
    "\n",
    "This is a multiclass classification problem, where the objective is to accurately predict the type of drug (Drug) a patient should be prescribed, based on the input features such as age, sex, blood pressure, cholesterol level, and sodium-to-potassium ratio in blood."
   ]
  },
  {
   "cell_type": "markdown",
   "id": "f6ff2b9b",
   "metadata": {},
   "source": []
  }
 ],
 "metadata": {
  "language_info": {
   "name": "python"
  }
 },
 "nbformat": 4,
 "nbformat_minor": 5
}
